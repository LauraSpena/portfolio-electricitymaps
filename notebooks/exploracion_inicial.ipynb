# === Configuración básica ===
import pandas as pd
import numpy as np
import matplotlib.pyplot as plt
from pathlib import Path

# Ruta local en Kaggle: subí tus CSV a la sección "Add data" del notebook
# o arrastralos a /kaggle/working y ajustá la ruta abajo si es necesario.
DATA_DIR = Path("./")  # en Kaggle suele ser /kaggle/working

FILES = {
    2021: "electricitymaps_argentina_yearly_2021.csv",
    2022: "electricitymaps_argentina_yearly_2022.csv",
    2023: "electricitymaps_argentina_yearly_2023.csv",
}

# === Helpers ===
def load_csv_flexible(path: Path) -> pd.DataFrame:
    """
    Intenta leer el CSV con separadores/encoding comunes.
    """
    for sep in [",", ";", "\t", "|"]:
        try:
            df = pd.read_csv(path, sep=sep, engine="python")
            if df.shape[1] > 1:
                return df
        except Exception:
            continue
    # último intento: leer tal cual
    return pd.read_csv(path)

def normalize_columns(df: pd.DataFrame) -> pd.DataFrame:
    """
    Pasa los nombres a snake_case y corrige columnas comunes.
    """
    def to_snake(s):
        return (
            s.strip()
             .replace(" ", "_")
             .replace("-", "_")
             .replace(".", "_")
             .lower()
        )
    df = df.rename(columns={c: to_snake(c) for c in df.columns})

    # Mapeos típicos hacia nombres estándar
    rename_map = {
        "year": "year",
        "anio": "year",
        "año": "year",
        "date": "year",           # si el YEAR viene como fecha "2021-01-01"
        "datetime": "year",
        "consumption": "consumption_mwh",
        "demand": "consumption_mwh",
        "electricity_consumption": "consumption_mwh",
        "total_consumption": "consumption_mwh",
        "value": "consumption_mwh",
        "mwh": "consumption_mwh",
        "gwh": "consumption_gwh",
        "kwh": "consumption_kwh",
    }
    # renombra solo columnas presentes
    for k, v in list(rename_map.items()):
        if k in df.columns and v not in df.columns:
            df = df.rename(columns={k: v})

    # Si year está como fecha, extraer año
    if "year" in df.columns:
        try:
            df["year"] = pd.to_datetime(df["year"], errors="coerce").dt.year.fillna(df["year"]).astype(int)
        except Exception:
            # si ya es int o string '2021'
            df["year"] = pd.to_numeric(df["year"], errors="coerce").astype("Int64")

    # Unificar unidad principal en MWh si llega en otras unidades
    if "consumption_mwh" not in df.columns:
        if "consumption_gwh" in df.columns:
            df["consumption_mwh"] = df["consumption_gwh"] * 1_000  # 1 GWh = 1000 MWh
        elif "consumption_kwh" in df.columns:
            df["consumption_mwh"] = df["consumption_kwh"] / 1_000   # 1000 kWh = 1 MWh

    # Mantener solo columnas relevantes + cualquier otra métrica útil
    keep_cols = [c for c in df.columns if c in ("year", "consumption_mwh", "consumption_gwh", "consumption_kwh")]
    if len(keep_cols) == 0:
        # Si no detectamos nada estándar, devolvemos original para inspección
        return df
    return df[keep_cols].copy()

def summarize_yearly(df: pd.DataFrame) -> pd.DataFrame:
    """
    Agrega por año y devuelve un resumen en MWh.
    """
    if "consumption_mwh" not in df.columns:
        # Si no existe, intentar convertir desde cols alternativas por las dudas
        if "consumption_gwh" in df.columns:
            df["consumption_mwh"] = df["consumption_gwh"] * 1_000
        elif "consumption_kwh" in df.columns:
            df["consumption_mwh"] = df["consumption_kwh"] / 1_000

    if "year" not in df.columns:
        # Si no hay 'year', intentar inferirlo de una columna única constante o del nombre del archivo
        raise ValueError("No se encontró columna 'year'. Revisá el CSV para identificar el campo de año.")

    out = (
        df.groupby("year", dropna=True, as_index=False)
          .agg(total_consumption_mwh=("consumption_mwh", "sum"))
    )
    return out

